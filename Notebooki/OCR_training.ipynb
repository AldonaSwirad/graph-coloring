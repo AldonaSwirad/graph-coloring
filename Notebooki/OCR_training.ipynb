{
 "cells": [
  {
   "cell_type": "code",
   "execution_count": 14,
   "metadata": {},
   "outputs": [],
   "source": [
    "import cv2\n",
    "import numpy as np\n",
    "import pytesseract\n",
    "import matplotlib.pyplot as plt\n",
    "\n",
    "# ścieżka do pliku exe OCR, ten cały tesseract musi być zainstalowany wcześniej \n",
    "pytesseract.pytesseract.tesseract_cmd = r'C:\\Users\\wilko\\AppData\\Local\\Programs\\Tesseract-OCR\\tesseract.exe'\n",
    "\n",
    "class SudokuBoard():\n",
    "    def __init__(self, n, image):\n",
    "        self.board_image = image\n",
    "        self.n = n\n",
    "\n",
    "        self.BOARD_WIDTH = 2 * image.shape[1]\n",
    "        self.BOARD_HEIGHT = 2 * image.shape[0]\n",
    "        \n",
    "        if n == 3:\n",
    "            self.cell_size = self.BOARD_HEIGHT // 9\n",
    "        elif n == 2:\n",
    "            self.cell_size = self.BOARD_HEIGHT // 4\n",
    "\n",
    "        self.cell_images = []\n",
    "\n",
    "        self.process_board_image()\n",
    "        self.split_board_image()\n",
    "\n",
    "    def process_board_image(self):\n",
    "        ''' Zwiększa rozdzielczość screena planszy, usuwa niepotrzebne linie w planszy i konwertuje do obrazu binarnego '''\n",
    "\n",
    "        resized_board_img = cv2.resize(self.board_image, (self.BOARD_WIDTH, self.BOARD_HEIGHT)) \n",
    "        gray_board_img = cv2.cvtColor(resized_board_img, cv2.COLOR_RGB2GRAY)\n",
    "        _,binary_board_img = cv2.threshold(gray_board_img, 127,255,cv2.THRESH_BINARY + cv2.THRESH_OTSU)\n",
    "\n",
    "        if self.n == 3:\n",
    "            line_coord_x = self.BOARD_WIDTH // 3\n",
    "            line_coord_y = self.BOARD_HEIGHT // 3\n",
    "\n",
    "            cv2.line(binary_board_img, (0,line_coord_y), (self.BOARD_WIDTH, line_coord_y), (255,255,255), 20)\n",
    "            cv2.line(binary_board_img, (0,line_coord_y*2),(self.BOARD_WIDTH, line_coord_y*2),(255,255,255), 20)\n",
    "\n",
    "            cv2.line(binary_board_img, (line_coord_x,0), (line_coord_x, self.BOARD_HEIGHT), (255,255,255), 20)\n",
    "            cv2.line(binary_board_img, (line_coord_x*2,0), (line_coord_x*2, self.BOARD_HEIGHT), (255,255,255), 20)\n",
    "        \n",
    "        elif self.n == 2:\n",
    "            line_coord_x = self.BOARD_WIDTH // 2\n",
    "            line_coord_y = self.BOARD_HEIGHT // 2\n",
    "\n",
    "            cv2.line(binary_board_img, (0,line_coord_y), (self.BOARD_WIDTH, line_coord_y), (255,255,255), 20)\n",
    "            cv2.line(binary_board_img, (line_coord_x,0), (line_coord_x, self.BOARD_HEIGHT), (255,255,255), 20)\n",
    "\n",
    "\n",
    "        self.processed_board_image = binary_board_img\n",
    "    \n",
    "    def split_board_image(self):\n",
    "        ''' Dzieli plansze na 81 pól tak żeby OCR na każdym był w stanie wykryć cyfrę '''\n",
    "\n",
    "        y_start = 0\n",
    "        x_start = 0\n",
    "        if self.n == 3:\n",
    "            y_end = self.BOARD_HEIGHT // 9\n",
    "            x_end = self.BOARD_WIDTH // 9\n",
    "\n",
    "        elif self.n == 2:\n",
    "            y_end = self.BOARD_HEIGHT // 4\n",
    "            x_end = self.BOARD_WIDTH // 4\n",
    "\n",
    "        for i in range(1, self.n * self.n + 1):\n",
    "            for j in range(1,self.n * self.n + 1):\n",
    "                self.cell_images.append(self.processed_board_image[y_start : y_end, x_start : x_end])\n",
    "                x_start += self.cell_size\n",
    "                x_end += self.cell_size\n",
    "            \n",
    "            x_start = 0\n",
    "            x_end = self.cell_size\n",
    "\n",
    "            y_start += self.cell_size\n",
    "            y_end += self.cell_size\n",
    "    \n",
    "    def create_board(self):\n",
    "        ''' OCR wykrywa cyfry z poszczególnych komórek planszy, w pustych polach wstawione są 0, funkcja zwraca macierz numpy 9x9,'''\n",
    "        \n",
    "        board = []\n",
    "\n",
    "        for image in self.cell_images:\n",
    "            ocr_result = pytesseract.image_to_string(image, config='--psm 13 --oem 3 -c tessedit_char_whitelist=123456789')\n",
    "            if ocr_result != '':\n",
    "                board.append(int(ocr_result))\n",
    "            else: \n",
    "                board.append(0)\n",
    "\n",
    "        board = np.array(board)\n",
    "\n",
    "        if self.n == 3:\n",
    "            board = board.reshape((9,9))\n",
    "\n",
    "        elif self.n == 2:\n",
    "            board = board.reshape((4,4))\n",
    "\n",
    "        return board"
   ]
  },
  {
   "cell_type": "code",
   "execution_count": 3,
   "metadata": {},
   "outputs": [],
   "source": [
    "board_img = cv2.imread(r\"C:\\Users\\wilko\\Desktop\\Studia\\Projekty studia\\Optymalizacja dyskretna - Sudoku\\Dane\\Pierdoly\\ocr_test.PNG\")"
   ]
  },
  {
   "cell_type": "code",
   "execution_count": 12,
   "metadata": {},
   "outputs": [],
   "source": [
    "sudoku_board = SudokuBoard(3, board_img)"
   ]
  },
  {
   "cell_type": "code",
   "execution_count": 16,
   "metadata": {},
   "outputs": [
    {
     "data": {
      "text/plain": [
       "array([[  0,   0,   0, ...,   0,   0,   0],\n",
       "       [  0,   0,   0, ...,   0,   0,   0],\n",
       "       [  0,   0,   0, ...,   0,   0,   0],\n",
       "       ...,\n",
       "       [  0,   0,   0, ..., 255, 255, 255],\n",
       "       [  0,   0,   0, ..., 255, 255, 255],\n",
       "       [  0,   0,   0, ..., 255, 255, 255]], dtype=uint8)"
      ]
     },
     "execution_count": 16,
     "metadata": {},
     "output_type": "execute_result"
    }
   ],
   "source": [
    "sudoku_board.cell_images[0]"
   ]
  },
  {
   "cell_type": "code",
   "execution_count": 32,
   "metadata": {},
   "outputs": [
    {
     "data": {
      "text/plain": [
       "<matplotlib.image.AxesImage at 0x2014e0353f0>"
      ]
     },
     "execution_count": 32,
     "metadata": {},
     "output_type": "execute_result"
    },
    {
     "data": {
      "image/png": "[encoded data removed]",
      "text/plain": [
       "<Figure size 640x480 with 1 Axes>"
      ]
     },
     "metadata": {},
     "output_type": "display_data"
    }
   ],
   "source": [
    "plt.imshow(sudoku_board.cell_images[77], cmap='gray')"
   ]
  },
  {
   "cell_type": "code",
   "execution_count": null,
   "metadata": {},
   "outputs": [],
   "source": []
  }
 ],
 "metadata": {
  "kernelspec": {
   "display_name": "Python 3",
   "language": "python",
   "name": "python3"
  },
  "language_info": {
   "codemirror_mode": {
    "name": "ipython",
    "version": 3
   },
   "file_extension": ".py",
   "mimetype": "text/x-python",
   "name": "python",
   "nbconvert_exporter": "python",
   "pygments_lexer": "ipython3",
   "version": "3.10.9"
  },
  "orig_nbformat": 4
 },
 "nbformat": 4,
 "nbformat_minor": 2
}
